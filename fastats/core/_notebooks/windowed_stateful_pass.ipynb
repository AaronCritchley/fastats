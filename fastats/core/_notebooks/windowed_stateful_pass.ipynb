{
 "cells": [
  {
   "cell_type": "markdown",
   "metadata": {},
   "source": [
    "Quick overview of `windowed_stateful_pass` - this probably should go to docs once API is stabilized!"
   ]
  },
  {
   "cell_type": "code",
   "execution_count": 1,
   "metadata": {},
   "outputs": [],
   "source": [
    "import os\n",
    "import sys\n",
    "\n",
    "# PYTHONPATH shenanigans - to allow importing fastats\n",
    "current_dir = os.path.abspath(os.curdir)\n",
    "sys.path.append(os.path.abspath(current_dir + \"/../../..\"))\n",
    "\n",
    "import fastats"
   ]
  },
  {
   "cell_type": "code",
   "execution_count": 2,
   "metadata": {
    "collapsed": true
   },
   "outputs": [],
   "source": [
    "from fastats import fs\n",
    "from fastats.core.windowed_pass import windowed_pass, windowed_stateful_pass\n",
    "\n",
    "import numpy as np\n",
    "import pandas as pd"
   ]
  },
  {
   "cell_type": "code",
   "execution_count": 3,
   "metadata": {},
   "outputs": [],
   "source": [
    "input_arr = np.arange(10e6, dtype='float')\n",
    "\n",
    "\n",
    "@fs\n",
    "def plain_sum(x):\n",
    "    return np.sum(x)"
   ]
  },
  {
   "cell_type": "code",
   "execution_count": 4,
   "metadata": {},
   "outputs": [
    {
     "name": "stdout",
     "output_type": "stream",
     "text": [
      "811 ms ± 32.1 ms per loop (mean ± std. dev. of 7 runs, 1 loop each)\n"
     ]
    }
   ],
   "source": [
    "pd_series = pd.Series(input_arr)\n",
    "\n",
    "%timeit pd_series.rolling(10).sum()"
   ]
  },
  {
   "cell_type": "code",
   "execution_count": 5,
   "metadata": {},
   "outputs": [
    {
     "name": "stdout",
     "output_type": "stream",
     "text": [
      "703 ms ± 11.5 ms per loop (mean ± std. dev. of 7 runs, 1 loop each)\n"
     ]
    }
   ],
   "source": [
    "# this will re-compile on each run\n",
    "%timeit windowed_pass(input_arr, 10, value=plain_sum)"
   ]
  },
  {
   "cell_type": "markdown",
   "metadata": {},
   "source": [
    "Even with the compile overhead, it still outperforms pandas. Let's see how it will perform in pre-compiled mode (`return_callable`)."
   ]
  },
  {
   "cell_type": "code",
   "execution_count": 6,
   "metadata": {},
   "outputs": [
    {
     "name": "stdout",
     "output_type": "stream",
     "text": [
      "474 ms ± 396 µs per loop (mean ± std. dev. of 7 runs, 1 loop each)\n"
     ]
    }
   ],
   "source": [
    "# this compiles the rolling fuction only once\n",
    "callable_pass = windowed_pass(value=plain_sum, return_callable=True)\n",
    "callable_pass(input_arr, 10)\n",
    "\n",
    "%timeit callable_pass(input_arr, 10)"
   ]
  },
  {
   "cell_type": "markdown",
   "metadata": {},
   "source": [
    "Now, let's see how fast we can get it with `windowed_stateful_pass`."
   ]
  },
  {
   "cell_type": "code",
   "execution_count": 7,
   "metadata": {
    "collapsed": true
   },
   "outputs": [],
   "source": [
    "@fs\n",
    "def rolling_sum(x, val_in, val_out, state):\n",
    "    if state.size == 0:   # state is empty\n",
    "        state = np.array([np.sum(x)], dtype=x.dtype)\n",
    "    else:\n",
    "        state[0] += val_in - val_out\n",
    "    return state[0], state"
   ]
  },
  {
   "cell_type": "code",
   "execution_count": 8,
   "metadata": {},
   "outputs": [
    {
     "name": "stdout",
     "output_type": "stream",
     "text": [
      "527 ms ± 11.2 ms per loop (mean ± std. dev. of 7 runs, 1 loop each)\n"
     ]
    }
   ],
   "source": [
    "%timeit windowed_stateful_pass(input_arr, 10, value=rolling_sum)"
   ]
  },
  {
   "cell_type": "code",
   "execution_count": 9,
   "metadata": {},
   "outputs": [
    {
     "name": "stdout",
     "output_type": "stream",
     "text": [
      "99.9 ms ± 2.65 ms per loop (mean ± std. dev. of 7 runs, 10 loops each)\n"
     ]
    }
   ],
   "source": [
    "callable_stateful_pass = windowed_stateful_pass(value=rolling_sum, return_callable=True)\n",
    "callable_stateful_pass(input_arr, 10)\n",
    "\n",
    "%timeit callable_stateful_pass(input_arr, 10)"
   ]
  },
  {
   "cell_type": "markdown",
   "metadata": {},
   "source": [
    "Quite impressive! The \"stateful\" version avoids re-calculating the full sum in each iteration for a significant speedup."
   ]
  },
  {
   "cell_type": "code",
   "execution_count": 10,
   "metadata": {},
   "outputs": [
    {
     "name": "stdout",
     "output_type": "stream",
     "text": [
      "pandas\n",
      "794 ms ± 37 ms per loop (mean ± std. dev. of 7 runs, 1 loop each)\n",
      "\n",
      "fastats windowed_pass\n",
      "1.79 s ± 1.15 ms per loop (mean ± std. dev. of 7 runs, 1 loop each)\n",
      "\n",
      "fastats windowed_stateful_pass\n",
      "97.9 ms ± 513 µs per loop (mean ± std. dev. of 7 runs, 10 loops each)\n"
     ]
    }
   ],
   "source": [
    "print(\"pandas\")\n",
    "%timeit pd_series.rolling(100).sum()\n",
    "\n",
    "print(\"\\nfastats windowed_pass\")\n",
    "%timeit callable_pass(input_arr, 100)\n",
    "\n",
    "print(\"\\nfastats windowed_stateful_pass\")\n",
    "%timeit callable_stateful_pass(input_arr, 100)"
   ]
  },
  {
   "cell_type": "markdown",
   "metadata": {},
   "source": [
    "We can see that the re-summing overhead for large window values is significant ($O(n * win)$ complexity). `windowed_pass` is therefore slower than pandas here. However, pandas and `windowed_stateful_pass` maintain the same run time, the window size doesn't matter."
   ]
  },
  {
   "cell_type": "code",
   "execution_count": 11,
   "metadata": {},
   "outputs": [
    {
     "name": "stdout",
     "output_type": "stream",
     "text": [
      "98.7 ms ± 661 µs per loop (mean ± std. dev. of 7 runs, 10 loops each)\n"
     ]
    }
   ],
   "source": [
    "# the same run time for window size 10, 100 etc\n",
    "%timeit callable_stateful_pass(input_arr, 1000)"
   ]
  },
  {
   "cell_type": "markdown",
   "metadata": {},
   "source": [
    "Lastly, let's compare fastats against pure numba rolling sum function."
   ]
  },
  {
   "cell_type": "code",
   "execution_count": 12,
   "metadata": {
    "collapsed": true
   },
   "outputs": [],
   "source": [
    "from numba import jit\n",
    "\n",
    "\n",
    "@jit(nopython=True)\n",
    "def windowed_stateful_pass_numba(x, win):\n",
    "    result = np.full_like(x, np.nan)\n",
    "    state = np.sum(x[0:win])\n",
    "    \n",
    "    result[win-1] = state\n",
    "\n",
    "    for i in range(win+1, x.shape[0]+1):\n",
    "        start = i - win\n",
    "        in_idx = i - 1\n",
    "\n",
    "        val_in = x[in_idx]\n",
    "        val_out = x[start-1]\n",
    "        state += val_in - val_out\n",
    "        result[in_idx] = state\n",
    "\n",
    "    return result"
   ]
  },
  {
   "cell_type": "code",
   "execution_count": 13,
   "metadata": {},
   "outputs": [
    {
     "name": "stdout",
     "output_type": "stream",
     "text": [
      "Pure numba\n",
      "73.6 ms ± 2.68 ms per loop (mean ± std. dev. of 7 runs, 10 loops each)\n",
      "\n",
      "fastats\n",
      "101 ms ± 1.84 ms per loop (mean ± std. dev. of 7 runs, 10 loops each)\n"
     ]
    }
   ],
   "source": [
    "from numpy.testing import assert_allclose\n",
    "\n",
    "\n",
    "assert_allclose(windowed_stateful_pass_numba(input_arr, 100),\n",
    "                callable_stateful_pass(input_arr, 100))\n",
    "\n",
    "print(\"Pure numba\")\n",
    "%timeit windowed_stateful_pass_numba(input_arr, 100)\n",
    "\n",
    "print(\"\\nfastats\")\n",
    "%timeit callable_stateful_pass(input_arr, 100)"
   ]
  },
  {
   "cell_type": "markdown",
   "metadata": {},
   "source": [
    "This shows that there's some overhead of function calling and argument passing, but fastats window pass functions can run close to native numba speed, easily outperforming pandas."
   ]
  },
  {
   "cell_type": "markdown",
   "metadata": {},
   "source": [
    "# Open problems:\n",
    "- Generic NaN handling in windows"
   ]
  },
  {
   "cell_type": "code",
   "execution_count": null,
   "metadata": {
    "collapsed": true
   },
   "outputs": [],
   "source": []
  }
 ],
 "metadata": {
  "kernelspec": {
   "display_name": "Python 3",
   "language": "python",
   "name": "python3"
  },
  "language_info": {
   "codemirror_mode": {
    "name": "ipython",
    "version": 3
   },
   "file_extension": ".py",
   "mimetype": "text/x-python",
   "name": "python",
   "nbconvert_exporter": "python",
   "pygments_lexer": "ipython3",
   "version": "3.6.3"
  }
 },
 "nbformat": 4,
 "nbformat_minor": 2
}
