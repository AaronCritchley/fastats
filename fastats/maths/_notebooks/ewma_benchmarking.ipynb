{
 "cells": [
  {
   "cell_type": "code",
   "execution_count": 1,
   "metadata": {},
   "outputs": [],
   "source": [
    "import pandas as pd\n",
    "import numpy as np\n",
    "from numba import njit"
   ]
  },
  {
   "cell_type": "code",
   "execution_count": 2,
   "metadata": {},
   "outputs": [],
   "source": [
    "@njit\n",
    "def ewma(x, halflife):\n",
    "    decay_coefficient = np.exp(np.log(0.5) / halflife)\n",
    "    out = np.empty_like(x, dtype=np.float64)\n",
    "\n",
    "    for i in range(out.shape[0]):\n",
    "        if i == 0:\n",
    "            out[i, :] = x[i, :]\n",
    "            sum_prior = 1\n",
    "        else:\n",
    "            sum_i = sum_prior + np.power(decay_coefficient, i)\n",
    "            out[i, :] = (decay_coefficient * out[i - 1, :] * sum_prior + x[i, :]) / sum_i\n",
    "            sum_prior = sum_i\n",
    "\n",
    "    return out"
   ]
  },
  {
   "cell_type": "code",
   "execution_count": 3,
   "metadata": {},
   "outputs": [],
   "source": [
    "x = np.random.rand(100, 100)"
   ]
  },
  {
   "cell_type": "code",
   "execution_count": 4,
   "metadata": {},
   "outputs": [],
   "source": [
    "pd.testing.assert_frame_equal(pd.DataFrame(x).ewm(halflife=10).mean(), pd.DataFrame(ewma(x, halflife=10)))"
   ]
  },
  {
   "cell_type": "code",
   "execution_count": 5,
   "metadata": {},
   "outputs": [],
   "source": [
    "wide_shapes = [(10, 10 ** x) for x in range(2,7)]\n",
    "square_shapes = [(10 ** x, 10 ** x) for x in range(2,5)]\n",
    "tall_shapes = [(10 ** x, 10) for x in range(2,7)]"
   ]
  },
  {
   "cell_type": "code",
   "execution_count": 6,
   "metadata": {},
   "outputs": [
    {
     "name": "stdout",
     "output_type": "stream",
     "text": [
      "921 µs ± 14.1 µs per loop (mean ± std. dev. of 7 runs, 1000 loops each)\n",
      "2.65 µs ± 28.2 ns per loop (mean ± std. dev. of 7 runs, 100000 loops each)\n",
      "4.37 ms ± 30.9 µs per loop (mean ± std. dev. of 7 runs, 100 loops each)\n",
      "9.43 µs ± 75 ns per loop (mean ± std. dev. of 7 runs, 100000 loops each)\n",
      "40.5 ms ± 823 µs per loop (mean ± std. dev. of 7 runs, 10 loops each)\n",
      "76.2 µs ± 284 ns per loop (mean ± std. dev. of 7 runs, 10000 loops each)\n",
      "396 ms ± 2.05 ms per loop (mean ± std. dev. of 7 runs, 1 loop each)\n",
      "3.04 ms ± 43.6 µs per loop (mean ± std. dev. of 7 runs, 100 loops each)\n",
      "4.05 s ± 54.4 ms per loop (mean ± std. dev. of 7 runs, 1 loop each)\n",
      "57.4 ms ± 510 µs per loop (mean ± std. dev. of 7 runs, 10 loops each)\n",
      "1.16 ms ± 15 µs per loop (mean ± std. dev. of 7 runs, 1000 loops each)\n",
      "22.9 µs ± 52.7 ns per loop (mean ± std. dev. of 7 runs, 10000 loops each)\n",
      "58.4 ms ± 394 µs per loop (mean ± std. dev. of 7 runs, 10 loops each)\n",
      "3.11 ms ± 47.9 µs per loop (mean ± std. dev. of 7 runs, 100 loops each)\n",
      "7.72 s ± 40.4 ms per loop (mean ± std. dev. of 7 runs, 1 loop each)\n",
      "360 ms ± 12.3 ms per loop (mean ± std. dev. of 7 runs, 1 loop each)\n",
      "588 µs ± 11.4 µs per loop (mean ± std. dev. of 7 runs, 1000 loops each)\n",
      "13.4 µs ± 24.8 ns per loop (mean ± std. dev. of 7 runs, 100000 loops each)\n",
      "932 µs ± 1.21 µs per loop (mean ± std. dev. of 7 runs, 1000 loops each)\n",
      "132 µs ± 228 ns per loop (mean ± std. dev. of 7 runs, 10000 loops each)\n",
      "4.65 ms ± 13.5 µs per loop (mean ± std. dev. of 7 runs, 100 loops each)\n",
      "1.31 ms ± 18.8 µs per loop (mean ± std. dev. of 7 runs, 1000 loops each)\n",
      "51.7 ms ± 199 µs per loop (mean ± std. dev. of 7 runs, 10 loops each)\n",
      "16.7 ms ± 49.9 µs per loop (mean ± std. dev. of 7 runs, 100 loops each)\n",
      "560 ms ± 10.9 ms per loop (mean ± std. dev. of 7 runs, 1 loop each)\n",
      "176 ms ± 2.21 ms per loop (mean ± std. dev. of 7 runs, 10 loops each)\n"
     ]
    }
   ],
   "source": [
    "results = []\n",
    "for shape in wide_shapes + square_shapes + tall_shapes:\n",
    "    arr = np.random.rand(*shape)\n",
    "    arr_as_df = pd.DataFrame(arr)\n",
    "    pd_timing = %timeit -o arr_as_df.ewm(halflife=10).mean()\n",
    "    new_timing = %timeit -o ewma(arr, halflife=10)\n",
    "    results.append((shape, pd_timing.best, new_timing.best))"
   ]
  },
  {
   "cell_type": "code",
   "execution_count": 7,
   "metadata": {},
   "outputs": [
    {
     "data": {
      "text/html": [
       "<div>\n",
       "<style scoped>\n",
       "    .dataframe tbody tr th:only-of-type {\n",
       "        vertical-align: middle;\n",
       "    }\n",
       "\n",
       "    .dataframe tbody tr th {\n",
       "        vertical-align: top;\n",
       "    }\n",
       "\n",
       "    .dataframe thead th {\n",
       "        text-align: right;\n",
       "    }\n",
       "</style>\n",
       "<table border=\"1\" class=\"dataframe\">\n",
       "  <thead>\n",
       "    <tr style=\"text-align: right;\">\n",
       "      <th></th>\n",
       "      <th>shape</th>\n",
       "      <th>pandas time (s)</th>\n",
       "      <th>fastats time (s)</th>\n",
       "      <th>time_diff_multiple</th>\n",
       "    </tr>\n",
       "  </thead>\n",
       "  <tbody>\n",
       "    <tr>\n",
       "      <th>0</th>\n",
       "      <td>(10, 100)</td>\n",
       "      <td>0.000908</td>\n",
       "      <td>0.000003</td>\n",
       "      <td>347.0</td>\n",
       "    </tr>\n",
       "    <tr>\n",
       "      <th>1</th>\n",
       "      <td>(10, 1000)</td>\n",
       "      <td>0.004336</td>\n",
       "      <td>0.000009</td>\n",
       "      <td>465.0</td>\n",
       "    </tr>\n",
       "    <tr>\n",
       "      <th>2</th>\n",
       "      <td>(10, 10000)</td>\n",
       "      <td>0.039539</td>\n",
       "      <td>0.000076</td>\n",
       "      <td>522.0</td>\n",
       "    </tr>\n",
       "    <tr>\n",
       "      <th>3</th>\n",
       "      <td>(10, 100000)</td>\n",
       "      <td>0.393719</td>\n",
       "      <td>0.002988</td>\n",
       "      <td>132.0</td>\n",
       "    </tr>\n",
       "    <tr>\n",
       "      <th>4</th>\n",
       "      <td>(10, 1000000)</td>\n",
       "      <td>3.987798</td>\n",
       "      <td>0.056970</td>\n",
       "      <td>70.0</td>\n",
       "    </tr>\n",
       "    <tr>\n",
       "      <th>5</th>\n",
       "      <td>(100, 100)</td>\n",
       "      <td>0.001145</td>\n",
       "      <td>0.000023</td>\n",
       "      <td>50.0</td>\n",
       "    </tr>\n",
       "    <tr>\n",
       "      <th>6</th>\n",
       "      <td>(1000, 1000)</td>\n",
       "      <td>0.057874</td>\n",
       "      <td>0.003051</td>\n",
       "      <td>19.0</td>\n",
       "    </tr>\n",
       "    <tr>\n",
       "      <th>7</th>\n",
       "      <td>(10000, 10000)</td>\n",
       "      <td>7.645597</td>\n",
       "      <td>0.342471</td>\n",
       "      <td>22.0</td>\n",
       "    </tr>\n",
       "    <tr>\n",
       "      <th>8</th>\n",
       "      <td>(100, 10)</td>\n",
       "      <td>0.000574</td>\n",
       "      <td>0.000013</td>\n",
       "      <td>43.0</td>\n",
       "    </tr>\n",
       "    <tr>\n",
       "      <th>9</th>\n",
       "      <td>(1000, 10)</td>\n",
       "      <td>0.000930</td>\n",
       "      <td>0.000131</td>\n",
       "      <td>7.0</td>\n",
       "    </tr>\n",
       "    <tr>\n",
       "      <th>10</th>\n",
       "      <td>(10000, 10)</td>\n",
       "      <td>0.004631</td>\n",
       "      <td>0.001286</td>\n",
       "      <td>4.0</td>\n",
       "    </tr>\n",
       "    <tr>\n",
       "      <th>11</th>\n",
       "      <td>(100000, 10)</td>\n",
       "      <td>0.051424</td>\n",
       "      <td>0.016650</td>\n",
       "      <td>3.0</td>\n",
       "    </tr>\n",
       "    <tr>\n",
       "      <th>12</th>\n",
       "      <td>(1000000, 10)</td>\n",
       "      <td>0.547350</td>\n",
       "      <td>0.172333</td>\n",
       "      <td>3.0</td>\n",
       "    </tr>\n",
       "  </tbody>\n",
       "</table>\n",
       "</div>"
      ],
      "text/plain": [
       "             shape  pandas time (s)  fastats time (s)  time_diff_multiple\n",
       "0        (10, 100)         0.000908          0.000003               347.0\n",
       "1       (10, 1000)         0.004336          0.000009               465.0\n",
       "2      (10, 10000)         0.039539          0.000076               522.0\n",
       "3     (10, 100000)         0.393719          0.002988               132.0\n",
       "4    (10, 1000000)         3.987798          0.056970                70.0\n",
       "5       (100, 100)         0.001145          0.000023                50.0\n",
       "6     (1000, 1000)         0.057874          0.003051                19.0\n",
       "7   (10000, 10000)         7.645597          0.342471                22.0\n",
       "8        (100, 10)         0.000574          0.000013                43.0\n",
       "9       (1000, 10)         0.000930          0.000131                 7.0\n",
       "10     (10000, 10)         0.004631          0.001286                 4.0\n",
       "11    (100000, 10)         0.051424          0.016650                 3.0\n",
       "12   (1000000, 10)         0.547350          0.172333                 3.0"
      ]
     },
     "execution_count": 7,
     "metadata": {},
     "output_type": "execute_result"
    }
   ],
   "source": [
    "results_as_df = pd.DataFrame.from_records(results, columns=['shape', 'pandas time (s)', 'fastats time (s)'])\n",
    "results_as_df['time_diff_multiple'] = round(results_as_df['pandas time (s)'] /  results_as_df['fastats time (s)'])\n",
    "results_as_df"
   ]
  },
  {
   "cell_type": "code",
   "execution_count": null,
   "metadata": {},
   "outputs": [],
   "source": []
  },
  {
   "cell_type": "code",
   "execution_count": null,
   "metadata": {},
   "outputs": [],
   "source": []
  }
 ],
 "metadata": {
  "kernelspec": {
   "display_name": "Python 3",
   "language": "python",
   "name": "python3"
  },
  "language_info": {
   "codemirror_mode": {
    "name": "ipython",
    "version": 3
   },
   "file_extension": ".py",
   "mimetype": "text/x-python",
   "name": "python",
   "nbconvert_exporter": "python",
   "pygments_lexer": "ipython3",
   "version": "3.6.6"
  }
 },
 "nbformat": 4,
 "nbformat_minor": 2
}
